{
 "cells": [
  {
   "cell_type": "code",
   "execution_count": 14,
   "metadata": {},
   "outputs": [],
   "source": [
    "from langchain_openai import OpenAI\n",
    "from langchain import PromptTemplate\n",
    "from langchain.chains import LLMChain"
   ]
  },
  {
   "cell_type": "code",
   "execution_count": 5,
   "metadata": {},
   "outputs": [
    {
     "data": {
      "text/plain": [
       "True"
      ]
     },
     "execution_count": 5,
     "metadata": {},
     "output_type": "execute_result"
    }
   ],
   "source": [
    "from dotenv import load_dotenv\n",
    "load_dotenv()"
   ]
  },
  {
   "cell_type": "code",
   "execution_count": 9,
   "metadata": {},
   "outputs": [],
   "source": [
    "llm = OpenAI(temperature=0.8)"
   ]
  },
  {
   "cell_type": "code",
   "execution_count": 13,
   "metadata": {},
   "outputs": [
    {
     "data": {
      "text/plain": [
       "'\\nI want you to act as a financial advisor for common people. In an easy way, explain the concept of income tax\\n'"
      ]
     },
     "execution_count": 13,
     "metadata": {},
     "output_type": "execute_result"
    }
   ],
   "source": [
    "demo_template = '''\n",
    "I want you to act as a financial advisor for common people. In an easy way, explain the concept of {financial_concept}\n",
    "'''\n",
    "\n",
    "template=PromptTemplate(\n",
    "    input_variables=['financial_concept'],\n",
    "    template=demo_template\n",
    ")\n",
    "\n",
    "template.format(financial_concept='income tax')"
   ]
  },
  {
   "cell_type": "code",
   "execution_count": 16,
   "metadata": {},
   "outputs": [
    {
     "data": {
      "text/plain": [
       "{'financial_concept': 'income tax',\n",
       " 'text': \"Sure, I'd be happy to explain income tax in a simple way.\\n\\nIncome tax is a tax that is paid on the money you earn from working, investments, or any other source of income. This tax is collected by the government and is used to fund various public services, such as schools, roads, and healthcare.\\n\\nWhen you receive your paycheck, a portion of your earnings is automatically deducted as income tax. This is based on your income level and is calculated using a tax bracket system. Essentially, the more money you earn, the higher your tax rate will be.\\n\\nIt's important to note that not all income is taxable. Some common examples of non-taxable income include gifts, inheritances, and certain types of government benefits.\\n\\nIt's also important to understand that there are different types of income taxes. For example, in the United States, there is federal income tax, as well as state income tax for residents of certain states.\\n\\nIt's important to file your taxes accurately and on time to avoid penalties and potential legal issues. If you have any questions or concerns about income tax, it's always best to consult with a tax professional or the appropriate government agency.\\n\\nI hope this helps explain the concept of income tax in a simple and easy-to-understand way. Remember\"}"
      ]
     },
     "execution_count": 16,
     "metadata": {},
     "output_type": "execute_result"
    }
   ],
   "source": [
    "chain1=LLMChain(llm=llm, prompt=template)\n",
    "chain1.invoke('income tax')"
   ]
  },
  {
   "cell_type": "code",
   "execution_count": 24,
   "metadata": {},
   "outputs": [
    {
     "data": {
      "text/plain": [
       "'\\nTranslate What is your name? into Hindi.\\n'"
      ]
     },
     "execution_count": 24,
     "metadata": {},
     "output_type": "execute_result"
    }
   ],
   "source": [
    "## Language Transaltion\n",
    "\n",
    "translation_template = '''\n",
    "Translate {sentence} into {target_language}.\n",
    "'''\n",
    "\n",
    "translation_prompt=PromptTemplate(\n",
    "    input_variables=['sentence', 'target_language'],\n",
    "    template=translation_template\n",
    ")\n",
    "\n",
    "translation_prompt.format(sentence='What is your name?', target_language='Hindi')"
   ]
  },
  {
   "cell_type": "code",
   "execution_count": 26,
   "metadata": {},
   "outputs": [
    {
     "data": {
      "text/plain": [
       "{'sentence': 'What is your name?',\n",
       " 'target_language': 'Hindi',\n",
       " 'text': '\\nआपका नाम क्या है?\\n'}"
      ]
     },
     "execution_count": 26,
     "metadata": {},
     "output_type": "execute_result"
    }
   ],
   "source": [
    "chain2=LLMChain(llm=llm, prompt=translation_prompt)\n",
    "chain2({'sentence': \"What is your name?\", \n",
    "        'target_language': 'Hindi'})"
   ]
  },
  {
   "cell_type": "code",
   "execution_count": 27,
   "metadata": {},
   "outputs": [
    {
     "data": {
      "text/plain": [
       "{'sentence': 'What is your name?',\n",
       " 'target_language': 'Kannada',\n",
       " 'text': '\\nನೀವು ಯಾರು? (Nīvu yāru?)'}"
      ]
     },
     "execution_count": 27,
     "metadata": {},
     "output_type": "execute_result"
    }
   ],
   "source": [
    "chain2({'sentence': \"What is your name?\", \n",
    "        'target_language': 'Kannada'})"
   ]
  },
  {
   "cell_type": "code",
   "execution_count": 28,
   "metadata": {},
   "outputs": [],
   "source": [
    "# Few Shot Learning "
   ]
  },
  {
   "cell_type": "code",
   "execution_count": 30,
   "metadata": {},
   "outputs": [],
   "source": [
    "from langchain import FewShotPromptTemplate\n",
    "\n",
    "examples = [\n",
    "    {\"word\": \"happy\", \"antonym\": \"sad\"},\n",
    "    {\"word\": \"day\", \"antonym\": \"night\"}\n",
    "]\n",
    "\n",
    "example_formatter_template=\"\"\"\n",
    "Word: {word}, Antonym: {antonym}\n",
    "\"\"\"\n",
    "\n",
    "example_prompt=PromptTemplate(\n",
    "    input_variables=[\"word\", \"antonym\"],\n",
    "    template=example_formatter_template\n",
    ")\n",
    "\n",
    "few_shot_prompt = FewShotPromptTemplate(\n",
    "    examples=examples,\n",
    "    example_prompt=example_prompt,\n",
    "    prefix=\"Give the antonym of every input\\n\",\n",
    "    suffix=\"Word: {input}\\nAntonym: \",\n",
    "    input_variables=['input'],\n",
    "    example_separator='\\n'\n",
    ")\n"
   ]
  },
  {
   "cell_type": "code",
   "execution_count": 31,
   "metadata": {},
   "outputs": [
    {
     "name": "stdout",
     "output_type": "stream",
     "text": [
      "Give the antonym of every input\n",
      "\n",
      "\n",
      "Word: happy, Antonym: sad\n",
      "\n",
      "\n",
      "Word: day, Antonym: night\n",
      "\n",
      "Word: big\n",
      "Antonym: \n"
     ]
    }
   ],
   "source": [
    "print(few_shot_prompt.format(input='big'))"
   ]
  },
  {
   "cell_type": "code",
   "execution_count": 32,
   "metadata": {},
   "outputs": [
    {
     "data": {
      "text/plain": [
       "{'input': 'Big', 'text': 'Small'}"
      ]
     },
     "execution_count": 32,
     "metadata": {},
     "output_type": "execute_result"
    }
   ],
   "source": [
    "chain3 = LLMChain(llm=llm, prompt=few_shot_prompt)\n",
    "chain3.invoke(input='Big')"
   ]
  },
  {
   "cell_type": "code",
   "execution_count": null,
   "metadata": {},
   "outputs": [],
   "source": []
  }
 ],
 "metadata": {
  "kernelspec": {
   "display_name": "Python 3",
   "language": "python",
   "name": "python3"
  },
  "language_info": {
   "codemirror_mode": {
    "name": "ipython",
    "version": 3
   },
   "file_extension": ".py",
   "mimetype": "text/x-python",
   "name": "python",
   "nbconvert_exporter": "python",
   "pygments_lexer": "ipython3",
   "version": "3.9.18"
  }
 },
 "nbformat": 4,
 "nbformat_minor": 2
}
